{
 "cells": [
  {
   "cell_type": "code",
   "execution_count": 1,
   "metadata": {},
   "outputs": [],
   "source": [
    "import numpy as np"
   ]
  },
  {
   "cell_type": "code",
   "execution_count": 4,
   "metadata": {},
   "outputs": [
    {
     "data": {
      "text/plain": [
       "32"
      ]
     },
     "execution_count": 4,
     "metadata": {},
     "output_type": "execute_result"
    }
   ],
   "source": [
    "# dot-performs element wise multipliacation follwed by addition\n",
    "array1 = np.array([1,2,3]) \n",
    "array2 = np.array([4,5,6])\n",
    "\n",
    "np.dot(array1,array2)"
   ]
  },
  {
   "cell_type": "code",
   "execution_count": 9,
   "metadata": {},
   "outputs": [
    {
     "data": {
      "text/plain": [
       "(2, 2, 3)"
      ]
     },
     "execution_count": 9,
     "metadata": {},
     "output_type": "execute_result"
    }
   ],
   "source": [
    "# shape - gives the dimensions of a numpy array etc..\n",
    "array3 = np.array([\n",
    "\n",
    "      [\n",
    "          [7,2,3],[3,7,6]\n",
    "     ],\n",
    "      [\n",
    "          [1,2,9], [0,5,6]\n",
    "     ],\n",
    "     \n",
    "])\n",
    "\n",
    "array3.shape"
   ]
  },
  {
   "cell_type": "code",
   "execution_count": 17,
   "metadata": {},
   "outputs": [
    {
     "name": "stdout",
     "output_type": "stream",
     "text": [
      "[1.  3.  7.  8.7 0. ]\n"
     ]
    }
   ],
   "source": [
    "# dtype: check datatype of a numpy array etc.. \n",
    "array3 = np.array([1,3,7,8.7,0])\n",
    "array3.dtype\n",
    "print(array3)\n"
   ]
  },
  {
   "cell_type": "code",
   "execution_count": 25,
   "metadata": {},
   "outputs": [
    {
     "name": "stdout",
     "output_type": "stream",
     "text": [
      "[[ 45 132]\n",
      " [ 38 113]\n",
      " [ 28  88]]\n",
      "[[ 45 132]\n",
      " [ 38 113]\n",
      " [ 28  88]]\n"
     ]
    }
   ],
   "source": [
    "# matmul / @ - performs matrix multiplication\n",
    "matrix1 = np.array([[3,7,9],\n",
    "                [3,6,7],\n",
    "                [2,8,0]])\n",
    "matrix2 = np.array([[2,8],\n",
    "                [3,9],\n",
    "                [2,5]])\n",
    "\n",
    "multiplication = np.matmul(matrix1,matrix2)\n",
    "print(matrix1 @ matrix2)\n",
    "print(multiplication)"
   ]
  },
  {
   "cell_type": "code",
   "execution_count": 29,
   "metadata": {},
   "outputs": [
    {
     "ename": "ValueError",
     "evalue": "Some errors were detected !\n    Line #20 (got 5 columns instead of 1)\n    Line #49 (got 5 columns instead of 1)\n    Line #50 (got 3 columns instead of 1)\n    Line #51 (got 2 columns instead of 1)\n    Line #52 (got 2 columns instead of 1)\n    Line #53 (got 5 columns instead of 1)\n    Line #71 (got 3 columns instead of 1)\n    Line #78 (got 712 columns instead of 1)\n    Line #81 (got 106 columns instead of 1)\n    Line #84 (got 31 columns instead of 1)",
     "output_type": "error",
     "traceback": [
      "\u001b[1;31m---------------------------------------------------------------------------\u001b[0m",
      "\u001b[1;31mValueError\u001b[0m                                Traceback (most recent call last)",
      "Cell \u001b[1;32mIn[29], line 5\u001b[0m\n\u001b[0;32m      1\u001b[0m \u001b[38;5;28;01mimport\u001b[39;00m \u001b[38;5;21;01murllib\u001b[39;00m\u001b[38;5;21;01m.\u001b[39;00m\u001b[38;5;21;01mrequest\u001b[39;00m\n\u001b[0;32m      2\u001b[0m urllib\u001b[38;5;241m.\u001b[39mrequest\u001b[38;5;241m.\u001b[39murlretrieve(\n\u001b[0;32m      3\u001b[0m     \u001b[38;5;124m'\u001b[39m\u001b[38;5;124mhttps://www.stats.govt.nz/large-datasets/csv-files-for-download/\u001b[39m\u001b[38;5;124m'\u001b[39m\n\u001b[0;32m      4\u001b[0m ,\u001b[38;5;124m'\u001b[39m\u001b[38;5;124mbusinessData.txt\u001b[39m\u001b[38;5;124m'\u001b[39m)\n\u001b[1;32m----> 5\u001b[0m businessData\u001b[38;5;241m=\u001b[39m\u001b[43mnp\u001b[49m\u001b[38;5;241;43m.\u001b[39;49m\u001b[43mgenfromtxt\u001b[49m\u001b[43m(\u001b[49m\u001b[38;5;124;43m'\u001b[39;49m\u001b[38;5;124;43mbusinessData.txt\u001b[39;49m\u001b[38;5;124;43m'\u001b[39;49m\u001b[43m,\u001b[49m\u001b[43mdelimiter\u001b[49m\u001b[38;5;241;43m=\u001b[39;49m\u001b[38;5;124;43m'\u001b[39;49m\u001b[38;5;124;43m,\u001b[39;49m\u001b[38;5;124;43m'\u001b[39;49m\u001b[43m,\u001b[49m\u001b[43mskip_header\u001b[49m\u001b[38;5;241;43m=\u001b[39;49m\u001b[38;5;241;43m1\u001b[39;49m\u001b[43m)\u001b[49m\n",
      "File \u001b[1;32m~\\AppData\\Roaming\\Python\\Python312\\site-packages\\numpy\\lib\\npyio.py:2312\u001b[0m, in \u001b[0;36mgenfromtxt\u001b[1;34m(fname, dtype, comments, delimiter, skip_header, skip_footer, converters, missing_values, filling_values, usecols, names, excludelist, deletechars, replace_space, autostrip, case_sensitive, defaultfmt, unpack, usemask, loose, invalid_raise, max_rows, encoding, ndmin, like)\u001b[0m\n\u001b[0;32m   2310\u001b[0m \u001b[38;5;66;03m# Raise an exception ?\u001b[39;00m\n\u001b[0;32m   2311\u001b[0m \u001b[38;5;28;01mif\u001b[39;00m invalid_raise:\n\u001b[1;32m-> 2312\u001b[0m     \u001b[38;5;28;01mraise\u001b[39;00m \u001b[38;5;167;01mValueError\u001b[39;00m(errmsg)\n\u001b[0;32m   2313\u001b[0m \u001b[38;5;66;03m# Issue a warning ?\u001b[39;00m\n\u001b[0;32m   2314\u001b[0m \u001b[38;5;28;01melse\u001b[39;00m:\n\u001b[0;32m   2315\u001b[0m     warnings\u001b[38;5;241m.\u001b[39mwarn(errmsg, ConversionWarning, stacklevel\u001b[38;5;241m=\u001b[39m\u001b[38;5;241m2\u001b[39m)\n",
      "\u001b[1;31mValueError\u001b[0m: Some errors were detected !\n    Line #20 (got 5 columns instead of 1)\n    Line #49 (got 5 columns instead of 1)\n    Line #50 (got 3 columns instead of 1)\n    Line #51 (got 2 columns instead of 1)\n    Line #52 (got 2 columns instead of 1)\n    Line #53 (got 5 columns instead of 1)\n    Line #71 (got 3 columns instead of 1)\n    Line #78 (got 712 columns instead of 1)\n    Line #81 (got 106 columns instead of 1)\n    Line #84 (got 31 columns instead of 1)"
     ]
    }
   ],
   "source": [
    "import urllib.request\n",
    "urllib.request.urlretrieve(\n",
    "    'https://www.stats.govt.nz/large-datasets/csv-files-for-download/'\n",
    ",'businessData.txt')\n",
    "businessData=np.genfromtxt('businessData.txt',delimiter=',',skip_header=1)"
   ]
  },
  {
   "cell_type": "code",
   "execution_count": 35,
   "metadata": {},
   "outputs": [
    {
     "name": "stdout",
     "output_type": "stream",
     "text": [
      "[[11 22 33]\n",
      " [14 25 36]]\n"
     ]
    }
   ],
   "source": [
    "# add-it performs array broadcasting i.e.,add arrays of different sizes by managing the sizes of smaller array\n",
    "import numpy as np\n",
    "\n",
    "# Create a 2D array\n",
    "arr1 = np.array([[1, 2, 3],\n",
    "                 [4, 5, 6]])\n",
    "\n",
    "# Create a 1D array\n",
    "arr2 = np.array([10, 20, 30])\n",
    "\n",
    "# Perform element-wise addition using broadcasting\n",
    "result = arr1 + arr2\n",
    "\n",
    "print(result)\n",
    "\n"
   ]
  },
  {
   "cell_type": "code",
   "execution_count": 6,
   "metadata": {},
   "outputs": [
    {
     "name": "stdout",
     "output_type": "stream",
     "text": [
      "[[[8 0 6]]]\n"
     ]
    }
   ],
   "source": [
    "# array slicing\n",
    "import numpy as np\n",
    "arr = np.array([[[1,2,3],[2,6,8],[9,7,5]],\n",
    "                [[2,8,9],[8,0,6],[3,6,8]]\n",
    "                ])\n",
    "print(arr[1:,1:2,0:3])"
   ]
  },
  {
   "cell_type": "code",
   "execution_count": 12,
   "metadata": {},
   "outputs": [
    {
     "name": "stdout",
     "output_type": "stream",
     "text": [
      "[[0. 0. 0. 0. 0.]\n",
      " [0. 0. 0. 0. 0.]\n",
      " [0. 0. 0. 0. 0.]]\n",
      "[[1. 1. 1. 1.]\n",
      " [1. 1. 1. 1.]\n",
      " [1. 1. 1. 1.]]\n",
      "[[0.41154902 0.01506383 0.89684902 0.20775013]\n",
      " [0.25554528 0.2352417  0.63986787 0.41193578]]\n",
      "[[1. 0. 0. 0.]\n",
      " [0. 1. 0. 0.]]\n"
     ]
    }
   ],
   "source": [
    "# creating zero, identity , random matrix\n",
    "zero_matrix = np.zeros((3,5))\n",
    "identity_matrix = np.ones((3,4))\n",
    "random_matrix = np.random.rand(2,4)\n",
    "\n",
    "print(zero_matrix)\n",
    "print(identity_matrix)\n",
    "print(random_matrix)\n",
    "print(np.eye(2,4))"
   ]
  },
  {
   "cell_type": "code",
   "execution_count": 16,
   "metadata": {},
   "outputs": [
    {
     "name": "stdout",
     "output_type": "stream",
     "text": [
      "[ 3.          4.71428571  6.42857143  8.14285714  9.85714286 11.57142857\n",
      " 13.28571429 15.         16.71428571 18.42857143 20.14285714 21.85714286\n",
      " 23.57142857 25.28571429 27.        ]\n"
     ]
    }
   ],
   "source": [
    "# linspace array\n",
    "print(np.linspace(3,27 , 15))"
   ]
  },
  {
   "cell_type": "code",
   "execution_count": 17,
   "metadata": {},
   "outputs": [
    {
     "data": {
      "text/plain": [
       "'c:\\\\Users\\\\p mahaboob sana\\\\OneDrive\\\\Desktop\\\\python'"
      ]
     },
     "execution_count": 17,
     "metadata": {},
     "output_type": "execute_result"
    }
   ],
   "source": [
    "# os \n",
    "import os\n",
    "os.getcwd()"
   ]
  }
 ],
 "metadata": {
  "kernelspec": {
   "display_name": "Python 3",
   "language": "python",
   "name": "python3"
  },
  "language_info": {
   "codemirror_mode": {
    "name": "ipython",
    "version": 3
   },
   "file_extension": ".py",
   "mimetype": "text/x-python",
   "name": "python",
   "nbconvert_exporter": "python",
   "pygments_lexer": "ipython3",
   "version": "3.12.0"
  }
 },
 "nbformat": 4,
 "nbformat_minor": 2
}
